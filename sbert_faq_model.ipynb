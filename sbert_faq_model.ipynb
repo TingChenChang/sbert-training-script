{
 "cells": [
  {
   "cell_type": "code",
   "execution_count": 1,
   "metadata": {},
   "outputs": [],
   "source": [
    "from sentence_transformers import SentenceTransformer\n",
    "from sentence_transformers.cross_encoder import CrossEncoder\n",
    "from sentence_transformers.util import cos_sim\n",
    "\n",
    "# BI Encoder Model\n",
    "# 1. distiluse-base-multilingual-cased-v1\n",
    "# 2. output/training_hpvqa-distiluse-base-multilingual-cased-v1-20220108114007\n",
    "\n",
    "# Cross Encoder Model \n",
    "# 1. output/training_quora-2021-10-21_15-20-55 (2 Epoch)\n",
    "\n",
    "bi_model_1 = SentenceTransformer('distiluse-base-multilingual-cased-v1')\n",
    "bi_model_2 = SentenceTransformer('output/training_hpvqa-distiluse-base-multilingual-cased-v1-20220108114007')\n",
    "bi_model_3 = SentenceTransformer('output/training_hpvqa-training_gossip-distiluse-base-multilingual-cased-v1-20211108123754-20220110002927')\n",
    "\n",
    "cs_model = CrossEncoder('output/training_quora-2021-10-21_15-20-55')"
   ]
  },
  {
   "cell_type": "code",
   "execution_count": 6,
   "metadata": {},
   "outputs": [],
   "source": [
    "def sbert_qa_model(user_question, bi_encoder, cross_encoder):\n",
    "\n",
    "    # FAQ \n",
    "    import pandas as pd\n",
    "    faq_df = pd.read_excel('data/HPV_QA.xlsx')\\\n",
    "        .assign(\n",
    "            Question=lambda df:df['question'].apply(lambda x:x.replace(' ','').strip()),\n",
    "            Answer=lambda df:df['answer'].apply(lambda x:x.replace(' ','').strip())\n",
    "        )\n",
    "    faq_question_list = faq_df['question'].unique().tolist()\n",
    "    faq_qa_map = dict(zip(faq_df['question'], faq_df['answer']))\n",
    "\n",
    "    faq_question_embedding = bi_encoder.encode(faq_question_list)\n",
    "    \n",
    "    user_question_embedding = bi_encoder.encode(user_question)\n",
    "\n",
    "    # Bi Encoder\n",
    "    ques_to_ques_sim = cos_sim(user_question_embedding, faq_question_embedding)\n",
    "    # Candidate Top 10\n",
    "    candidate_question = pd.DataFrame({\n",
    "        'question':faq_question_list,\n",
    "        'sim':ques_to_ques_sim[0]\n",
    "    }).nlargest(2,'sim')['question'].tolist()\n",
    "    \n",
    "    # # Cross Encoder\n",
    "    # question_pair = list(zip([user_question]*len(candidate_question), candidate_question))\n",
    "    # scores = cross_encoder.predict(question_pair)\n",
    "    # # Answer\n",
    "    # match_question = pd.DataFrame({\n",
    "    #     'question':candidate_question,\n",
    "    #     'scores':scores[0]\n",
    "    # }).nlargest(5,'scores')['question'].tolist()[:2]\n",
    "    # match_score = pd.DataFrame({\n",
    "    #     'question':candidate_question,\n",
    "    #     'scores':scores[0]\n",
    "    # }).nlargest(5,'scores')['scores'].tolist()[:2]\n",
    "    \n",
    "    candidate_score = pd.DataFrame({\n",
    "        'question':faq_question_list,\n",
    "        'sim':ques_to_ques_sim[0]\n",
    "    }).nlargest(2,'sim')['sim'].tolist()\n",
    "    match_answer = [faq_qa_map[x] for x in candidate_question]\n",
    "    \n",
    "    # Output\n",
    "    output = {\n",
    "        'user_question':user_question,\n",
    "        'best_match_question':candidate_question,\n",
    "        'best_match_answer':match_answer,\n",
    "        'score':candidate_score\n",
    "    }\n",
    "    \n",
    "    return output"
   ]
  },
  {
   "cell_type": "code",
   "execution_count": 3,
   "metadata": {},
   "outputs": [],
   "source": [
    "default_question_list = [\n",
    "    '疫苗有幾類', \n",
    "    '政府有補助打疫苗嗎', \n",
    "    '公費疫苗補助多少',\n",
    "    '疫苗有年齡限制嗎？', \n",
    "    '會有哪些副作用',\n",
    "    '有需要特別注意什麼', \n",
    "    '打完疫苗發燒怎麼辦'\n",
    "]"
   ]
  },
  {
   "cell_type": "code",
   "execution_count": 7,
   "metadata": {},
   "outputs": [
    {
     "name": "stdout",
     "output_type": "stream",
     "text": [
      "User Question: 疫苗有幾類\n",
      "Model1: [('HPV疫苗要接種幾劑', 0.7321795225143433), ('目前政府核准有哪幾種HPV疫苗廠牌?', 0.6231530904769897)]\n",
      "Model2: [('HPV疫苗要接種幾劑', 0.7184429168701172), ('目前政府核准有哪幾種HPV疫苗廠牌?', 0.6042048931121826)]\n",
      "Model3: [('HPV疫苗要接種幾劑', 0.783789336681366), ('HPV疫苗的接種對象', 0.7351275682449341)]\n",
      "---------\n",
      "User Question: 政府有補助打疫苗嗎\n",
      "Model1: [('疫苗補助', 0.7323815822601318), ('公費 HPV 疫苗接種，是否強制接種', 0.708055853843689)]\n",
      "Model2: [('疫苗補助', 0.7179433107376099), ('公費 HPV 疫苗接種，是否強制接種', 0.688248872756958)]\n",
      "Model3: [('疫苗補助', 0.8300663232803345), ('公費 HPV 疫苗接種，是否強制接種', 0.7567755579948425)]\n",
      "---------\n",
      "User Question: 公費疫苗補助多少\n",
      "Model1: [('疫苗補助', 0.7826864123344421), ('如果看病順便接種公費 HPV 疫苗，需負擔哪些費用', 0.7539790868759155)]\n",
      "Model2: [('疫苗補助', 0.7704024314880371), ('如果看病順便接種公費 HPV 疫苗，需負擔哪些費用', 0.7409102916717529)]\n",
      "Model3: [('疫苗補助', 0.8224537968635559), ('如果看病順便接種公費 HPV 疫苗，需負擔哪些費用', 0.8135435581207275)]\n",
      "---------\n",
      "User Question: 疫苗有年齡限制嗎？\n",
      "Model1: [('我女兒還這麼年輕，有需要施打疫苗嗎', 0.6934840679168701), ('接種HPV疫苗期間可以懷孕嗎', 0.6374865770339966)]\n",
      "Model2: [('我女兒還這麼年輕，有需要施打疫苗嗎', 0.6746584177017212), ('接種HPV疫苗期間可以懷孕嗎', 0.6114178895950317)]\n",
      "Model3: [('HPV疫苗可否和其他疫苗，如COVID-19疫苗同時接種', 0.718716561794281), ('二價 HPV 疫苗首次注射年齡滿 15 歲需施打3 劑者，第 3 劑與第 2劑應間隔多久', 0.7166844010353088)]\n",
      "---------\n",
      "User Question: 會有哪些副作用\n",
      "Model1: [('接種HPV疫苗可能有什麼副作用', 0.5791707038879395), ('如果接種HPV疫苗後出現副作用該怎麼辦', 0.489123672246933)]\n",
      "Model2: [('接種HPV疫苗可能有什麼副作用', 0.623271644115448), ('如果接種HPV疫苗後出現副作用該怎麼辦', 0.5217856168746948)]\n",
      "Model3: [('接種HPV疫苗可能有什麼副作用', 0.6910440921783447), ('施打期間若感染HPV，會不會影響效果', 0.6117925643920898)]\n",
      "---------\n",
      "User Question: 有需要特別注意什麼\n",
      "Model1: [('如何預防暈針', 0.4381309151649475), ('甚麼是暈針', 0.3646077811717987)]\n",
      "Model2: [('如何預防暈針', 0.4393085241317749), ('甚麼是暈針', 0.36116307973861694)]\n",
      "Model3: [('施打疫苗的6個月期間要注意什麼？能不能有性行為?', 0.6043841242790222), ('如何預防暈針', 0.5915157198905945)]\n",
      "---------\n",
      "User Question: 打完疫苗發燒怎麼辦\n",
      "Model1: [('如果接種HPV疫苗後出現副作用該怎麼辦', 0.7863626480102539), ('接種HPV疫苗期間懷孕了怎麼辦', 0.7716996669769287)]\n",
      "Model2: [('如果接種HPV疫苗後出現副作用該怎麼辦', 0.771747350692749), ('接種HPV疫苗之後出現副作用，可以尋求救濟嗎', 0.7508639097213745)]\n",
      "Model3: [('如果接種HPV疫苗後出現副作用該怎麼辦', 0.8035295009613037), ('如果接種HPV疫苗後出現關節痛該怎麼辦', 0.7820379137992859)]\n",
      "---------\n"
     ]
    }
   ],
   "source": [
    "for q in default_question_list:\n",
    "    r1 = sbert_qa_model(q, bi_model_1, cs_model)\n",
    "    r2 = sbert_qa_model(q, bi_model_2, cs_model)\n",
    "    r3 = sbert_qa_model(q, bi_model_3, cs_model)\n",
    "    \n",
    "    print(f\"User Question: {r1['user_question']}\")\n",
    "    print(f\"Model1: {list(zip(r1['best_match_question'], r1['score']))}\")\n",
    "    print(f\"Model2: {list(zip(r2['best_match_question'], r2['score']))}\")\n",
    "    print(f\"Model3: {list(zip(r3['best_match_question'], r3['score']))}\")\n",
    "    \n",
    "    print('---------')"
   ]
  },
  {
   "cell_type": "code",
   "execution_count": 95,
   "metadata": {},
   "outputs": [
    {
     "name": "stdout",
     "output_type": "stream",
     "text": [
      "User Question: 疫苗補助是否包含葆蓓\n",
      "Model1: [('目前疫苗有哪些', 0.0006677709170617163), ('HPV疫苗有用嗎', 0.0006677709170617163)]\n",
      "Model2: [('我有血小板缺少症，我適合接種GARDASIL 9疫苗嗎？', 0.0005554489325731993), ('我是血小板缺少症患者，是否能夠接種GARDASIL 9疫苗', 0.0005554489325731993)]\n",
      "Model3: [('接種HPV疫苗有什麼禁忌事項嗎?', 0.0006544439238496125), ('政府採購之HPV疫苗品質是否有 保障?', 0.0006544439238496125)]\n",
      "---------\n"
     ]
    }
   ],
   "source": [
    "for q in ['疫苗補助是否包含葆蓓']:\n",
    "    r1 = sbert_qa_model(q, bi_model_1, cs_model_2)\n",
    "    r2 = sbert_qa_model(q, bi_model_2, cs_model_2)\n",
    "    r3 = sbert_qa_model(q, bi_model_3, cs_model_2)\n",
    "\n",
    "    print(f\"User Question: {r1['user_question']}\")\n",
    "    print(f\"Model1: {list(zip(r1['best_match_question'], r1['score']))}\")\n",
    "    print(f\"Model2: {list(zip(r2['best_match_question'], r2['score']))}\")\n",
    "    print(f\"Model3: {list(zip(r3['best_match_question'], r3['score']))}\")\n",
    "    \n",
    "    print('---------')"
   ]
  },
  {
   "cell_type": "code",
   "execution_count": 94,
   "metadata": {},
   "outputs": [
    {
     "name": "stdout",
     "output_type": "stream",
     "text": [
      "User Question: HPV是麼麼\n",
      "Model1: [('HPV是什麼?', 0.14331158995628357), ('HPV是什麼？', 0.14331158995628357)]\n",
      "Model2: [('什麼是HPV', 0.024990471079945564), ('HPV是什麼?', 0.024990471079945564)]\n",
      "Model3: [('HPV是什麼?', 0.14331158995628357), ('HPV是什麼？', 0.14331158995628357)]\n",
      "---------\n"
     ]
    }
   ],
   "source": [
    "for q in ['HPV是麼麼']:\n",
    "    r1 = sbert_qa_model(q, bi_model_1, cs_model_2)\n",
    "    r2 = sbert_qa_model(q, bi_model_2, cs_model_2)\n",
    "    r3 = sbert_qa_model(q, bi_model_3, cs_model_2)\n",
    "\n",
    "    print(f\"User Question: {r1['user_question']}\")\n",
    "    print(f\"Model1: {list(zip(r1['best_match_question'], r1['score']))}\")\n",
    "    print(f\"Model2: {list(zip(r2['best_match_question'], r2['score']))}\")\n",
    "    print(f\"Model3: {list(zip(r3['best_match_question'], r3['score']))}\")\n",
    "    \n",
    "    print('---------')"
   ]
  },
  {
   "cell_type": "code",
   "execution_count": null,
   "metadata": {},
   "outputs": [],
   "source": []
  }
 ],
 "metadata": {
  "kernelspec": {
   "display_name": "Python 3.9.13 64-bit",
   "language": "python",
   "name": "python3"
  },
  "language_info": {
   "codemirror_mode": {
    "name": "ipython",
    "version": 3
   },
   "file_extension": ".py",
   "mimetype": "text/x-python",
   "name": "python",
   "nbconvert_exporter": "python",
   "pygments_lexer": "ipython3",
   "version": "3.9.13"
  },
  "orig_nbformat": 4,
  "vscode": {
   "interpreter": {
    "hash": "b0fa6594d8f4cbf19f97940f81e996739fb7646882a419484c72d19e05852a7e"
   }
  }
 },
 "nbformat": 4,
 "nbformat_minor": 2
}
